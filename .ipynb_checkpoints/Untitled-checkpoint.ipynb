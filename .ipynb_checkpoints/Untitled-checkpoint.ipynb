{
 "cells": [
  {
   "cell_type": "code",
   "execution_count": 31,
   "metadata": {},
   "outputs": [],
   "source": [
    "import pandas as pd"
   ]
  },
  {
   "cell_type": "code",
   "execution_count": 34,
   "metadata": {},
   "outputs": [
    {
     "data": {
      "text/plain": [
       "6682"
      ]
     },
     "execution_count": 34,
     "metadata": {},
     "output_type": "execute_result"
    }
   ],
   "source": [
    "df = pd.read_csv('merged_data.csv')\n",
    "len(df)"
   ]
  },
  {
   "cell_type": "code",
   "execution_count": 25,
   "metadata": {},
   "outputs": [
    {
     "name": "stdout",
     "output_type": "stream",
     "text": [
      "14\n",
      "['ISBN-10', 'ISBN-13', 'URL', 'タイトル', 'ページ数', '値段', '出版社', '大カテゴリー', '寸法', '小カテゴリー', '画像URL', '発売日', '著者', '詳細']\n"
     ]
    }
   ],
   "source": [
    "columns = df.columns.tolist()\n",
    "print(len(columns))\n",
    "print(columns)"
   ]
  },
  {
   "cell_type": "code",
   "execution_count": 70,
   "metadata": {},
   "outputs": [],
   "source": [
    "publisher_list = []\n",
    "learge_category_list = []\n",
    "small_category_list = []\n",
    "author_list = []\n",
    "\n",
    "for i in range(len(df)):\n",
    "    if df.loc[i, '出版社'].split('(')[0].split(';')[0].split('/')[0].replace(' ', '') not in publisher_list:\n",
    "        publisher_list.append(df.loc[i, '出版社'].split('(')[0].split(';')[0].split('/')[0].replace(' ', ''))\n",
    "        \n",
    "    if df.loc[i, '大カテゴリー'] not in learge_category_list:\n",
    "        learge_category_list.append(df.loc[i, '大カテゴリー']) \n",
    "        \n",
    "    if [df.loc[i, '大カテゴリー'], df.loc[i, '小カテゴリー']] not in small_category_list:\n",
    "        small_category_list.append([df.loc[i, '大カテゴリー'], df.loc[i, '小カテゴリー']])\n",
    "        \n",
    "    if df.loc[i, '著者'] not in author_list:\n",
    "        author_list.append(df.loc[i, '著者']) "
   ]
  },
  {
   "cell_type": "code",
   "execution_count": 71,
   "metadata": {},
   "outputs": [
    {
     "data": {
      "text/plain": [
       "[['アウトドア', 'キャンプ'],\n",
       " ['アウトドア', '登山・ハイキング'],\n",
       " ['アウトドア', '自転車・サイクリング'],\n",
       " ['アウトドア', '釣り'],\n",
       " ['アウトドア', 'カヌー・カヤック'],\n",
       " ['アウトドア', 'クライミング・ボルダリング'],\n",
       " ['アート・建築・デザイン', '写真'],\n",
       " ['アート・建築・デザイン', '絵画'],\n",
       " ['アート・建築・デザイン', '彫刻・工芸'],\n",
       " ['アート・建築・デザイン', '作品集'],\n",
       " ['アート・建築・デザイン', '建築'],\n",
       " ['アート・建築・デザイン', '住宅建築・家づくり'],\n",
       " ['アート・建築・デザイン', 'デザイン'],\n",
       " ['エンターテイメント', 'タレント写真集'],\n",
       " ['エンターテイメント', 'タレント本'],\n",
       " ['エンターテイメント', '映画'],\n",
       " ['エンターテイメント', '音楽'],\n",
       " ['エンターテイメント', 'ステージ・ダンス'],\n",
       " ['エンターテイメント', '落語・寄席・演芸'],\n",
       " ['エンターテイメント', '演劇・舞台'],\n",
       " ['ゲーム攻略・ゲームブック', 'ゲーム攻略本'],\n",
       " ['ゲーム攻略・ゲームブック', 'リプレイノベル'],\n",
       " ['ゲーム攻略・ゲームブック', 'ファンブック'],\n",
       " ['ゲーム攻略・ゲームブック', 'TRPG・カードゲーム'],\n",
       " ['コミック・ラノベ・BL', 'コミック'],\n",
       " ['コミック・ラノベ・BL', 'ライトノベル'],\n",
       " ['コミック・ラノベ・BL', 'ボーイズラブコミック'],\n",
       " ['コンピュータ・IT', '入門書'],\n",
       " ['コンピュータ・IT', 'プログラミング'],\n",
       " ['コンピュータ・IT', 'アプリケーション'],\n",
       " ['コンピュータ・IT', 'OS'],\n",
       " ['コンピュータ・IT', 'Web作成・開発'],\n",
       " ['コンピュータ・IT', 'ネットワーク'],\n",
       " ['コンピュータ・IT', 'データベース'],\n",
       " ['スポーツ', '野球'],\n",
       " ['スポーツ', 'サッカー・フットサル'],\n",
       " ['スポーツ', 'マラソン・ランニング'],\n",
       " ['スポーツ', 'テニス'],\n",
       " ['スポーツ', 'アイススケート'],\n",
       " ['スポーツ', '筋力トレーニング・ストレッチ'],\n",
       " ['ノンフィクション', '自伝・伝記'],\n",
       " ['ノンフィクション', '思想・社会'],\n",
       " ['ノンフィクション', '事件・犯罪'],\n",
       " ['ノンフィクション', '歴史・地理・旅行記'],\n",
       " ['ノンフィクション', 'ビジネス・経済'],\n",
       " ['ノンフィクション', '科学'],\n",
       " ['ノンフィクション', 'アート・エンターテイメント'],\n",
       " ['ビジネス・経済', '経営戦略'],\n",
       " ['ビジネス・経済', 'マーケティング・セールス'],\n",
       " ['ビジネス・経済', '経理・アカウンティング'],\n",
       " ['ビジネス・経済', '金融・ファイナンス'],\n",
       " ['ビジネス・経済', 'オペレーションズ'],\n",
       " ['ビジネス・経済', 'マネジメント・人材管理'],\n",
       " ['ビジネス・経済', '統計学・数学'],\n",
       " ['人文・思想', '哲学・思想'],\n",
       " ['人文・思想', '倫理学・道徳'],\n",
       " ['人文・思想', '宗教'],\n",
       " ['人文・思想', '心理学'],\n",
       " ['人文・思想', '文化人類学・民俗学'],\n",
       " ['人文・思想', '言語学'],\n",
       " ['人文・思想', '教育学'],\n",
       " ['医学・薬学・看護学・歯科学', '医学一般'],\n",
       " ['医学・薬学・看護学・歯科学', '基礎医学'],\n",
       " ['医学・薬学・看護学・歯科学', '臨床医学一般'],\n",
       " ['医学・薬学・看護学・歯科学', '臨床内科'],\n",
       " ['医学・薬学・看護学・歯科学', '臨床外科'],\n",
       " ['医学・薬学・看護学・歯科学', '産科・婦人科学'],\n",
       " ['医学・薬学・看護学・歯科学', '小児科学'],\n",
       " ['実用', '自己啓発'],\n",
       " ['実用', '常識・マナー'],\n",
       " ['実用', '素材・デザイン集'],\n",
       " ['実用', 'ペン字'],\n",
       " ['投資・金融・会社経営', '一般・投資読み物'],\n",
       " ['投資・金融・会社経営', '株式投資・投資信託'],\n",
       " ['投資・金融・会社経営', '不動産投資'],\n",
       " ['投資・金融・会社経営', '債券・為替・外貨預金'],\n",
       " ['投資・金融・会社経営', '銀行・金融業'],\n",
       " ['投資・金融・会社経営', '証券・金融市場'],\n",
       " ['投資・金融・会社経営', '年金・保険'],\n",
       " ['教育・学参・受験', '幼児教育'],\n",
       " ['教育・学参・受験', '小学教科書・参考書'],\n",
       " ['教育・学参・受験', '中学教科書・参考書'],\n",
       " ['教育・学参・受験', '高校教科書・参考書'],\n",
       " ['教育・学参・受験', '大学・大学院'],\n",
       " ['教育・学参・受験', '専門学校受験・ガイド'],\n",
       " ['教育・学参・受験', '海外留学対策'],\n",
       " ['文学・評論', '歴史・時代小説'],\n",
       " ['文学・評論', '経済・社会小説'],\n",
       " ['文学・評論', 'ミステリー・サスペンス・ハードボイルド'],\n",
       " ['文学・評論', 'SF・ホラー・ファンタジー'],\n",
       " ['文学・評論', 'エッセー・随筆'],\n",
       " ['文学・評論', '古典'],\n",
       " ['新書・文庫', '文学・評論'],\n",
       " ['新書・文庫', '思想・人文'],\n",
       " ['新書・文庫', '政治・社会'],\n",
       " ['新書・文庫', 'ビジネス・経済'],\n",
       " ['旅行ガイド・マップ', '海外旅行'],\n",
       " ['旅行ガイド・マップ', '国内旅行'],\n",
       " ['旅行ガイド・マップ', '時刻表'],\n",
       " ['旅行ガイド・マップ', 'シティマップ'],\n",
       " ['旅行ガイド・マップ', 'ロードマップ'],\n",
       " ['暮らし・健康・子育て', 'クッキング・レシピ'],\n",
       " ['暮らし・健康・子育て', 'ワイン・お酒'],\n",
       " ['暮らし・健康・子育て', '住まい・インテリア'],\n",
       " ['暮らし・健康・子育て', 'ガーデニング'],\n",
       " ['暮らし・健康・子育て', 'ペット'],\n",
       " ['暮らし・健康・子育て', '美容・ダイエット'],\n",
       " ['暮らし・健康・子育て', '恋愛・結婚・離婚'],\n",
       " ['暮らし・健康・子育て', '妊娠・出産・子育て'],\n",
       " ['楽譜・スコア・音楽書', 'クラシック'],\n",
       " ['楽譜・スコア・音楽書', 'J-POP'],\n",
       " ['楽譜・スコア・音楽書', '洋楽'],\n",
       " ['楽譜・スコア・音楽書', 'ジャズ'],\n",
       " ['楽譜・スコア・音楽書', 'ヴォーカル'],\n",
       " ['楽譜・スコア・音楽書', 'ワールド'],\n",
       " ['楽譜・スコア・音楽書', 'アニメ＆ゲーム音楽'],\n",
       " ['歴史・地理', '歴史学'],\n",
       " ['歴史・地理', '日本史'],\n",
       " ['歴史・地理', '世界史'],\n",
       " ['歴史・地理', '考古学'],\n",
       " ['歴史・地理', '地理 地域研究'],\n",
       " ['歴史・地理', '地図'],\n",
       " ['社会・政治', '政治'],\n",
       " ['社会・政治', '外交・国際関係'],\n",
       " ['社会・政治', '軍事'],\n",
       " ['社会・政治', '法律'],\n",
       " ['社会・政治', '社会学'],\n",
       " ['社会・政治', '福祉'],\n",
       " ['社会・政治', '環境・エコロジー'],\n",
       " ['科学・テクノロジー', '数学'],\n",
       " ['科学・テクノロジー', '物理学'],\n",
       " ['科学・テクノロジー', '化学'],\n",
       " ['科学・テクノロジー', '宇宙学・天文学'],\n",
       " ['科学・テクノロジー', '生物・バイオテクノロジー'],\n",
       " ['科学・テクノロジー', '工学'],\n",
       " ['科学・テクノロジー', '電気・通信'],\n",
       " ['絵本・児童書', '絵本'],\n",
       " ['絵本・児童書', '読み物(児童文学)'],\n",
       " ['絵本・児童書', 'ノンフィクション・伝記'],\n",
       " ['絵本・児童書', '実用・工作・趣味'],\n",
       " ['絵本・児童書', '学習'],\n",
       " ['絵本・児童書', '図鑑・事典・年鑑'],\n",
       " ['絵本・児童書', '学習まんが'],\n",
       " ['語学・辞事典・年鑑', '英語'],\n",
       " ['語学・辞事典・年鑑', '日本語'],\n",
       " ['語学・辞事典・年鑑', '韓国・朝鮮語'],\n",
       " ['語学・辞事典・年鑑', '中国語'],\n",
       " ['語学・辞事典・年鑑', 'フランス語'],\n",
       " ['語学・辞事典・年鑑', 'スペイン語・ポルトガル語'],\n",
       " ['語学・辞事典・年鑑', 'ドイツ語・ゲルマン諸語'],\n",
       " ['資格・検定・就職', '学生の就職'],\n",
       " ['資格・検定・就職', '法律関連'],\n",
       " ['資格・検定・就職', 'ビジネス関連'],\n",
       " ['資格・検定・就職', '事務関連'],\n",
       " ['資格・検定・就職', 'コンピュータ・情報処理'],\n",
       " ['資格・検定・就職', '医療・看護'],\n",
       " ['資格・検定・就職', '建築・土木'],\n",
       " ['趣味', '手芸・クラフト'],\n",
       " ['趣味', '車・バイク'],\n",
       " ['趣味', '鉄道'],\n",
       " ['趣味', 'カメラ・ビデオ'],\n",
       " ['趣味', 'オーディオ・ビジュアル'],\n",
       " ['趣味', '占い'],\n",
       " ['趣味', 'パズル・ゲーム'],\n",
       " ['雑誌', '音楽・映画・テレビ・芸能'],\n",
       " ['雑誌', 'スポーツ'],\n",
       " ['雑誌', 'クルマ・バイク・乗り物']]"
      ]
     },
     "execution_count": 71,
     "metadata": {},
     "output_type": "execute_result"
    }
   ],
   "source": [
    "for publisher in publisher_list:\n",
    "    Publisher.objects.create(publisher_name=publisher)"
   ]
  },
  {
   "cell_type": "code",
   "execution_count": null,
   "metadata": {},
   "outputs": [],
   "source": [
    "for learge_category in learge_category_list:\n",
    "    LargeCategory.objects.create(learge_category_name=learge_category)"
   ]
  },
  {
   "cell_type": "code",
   "execution_count": null,
   "metadata": {},
   "outputs": [],
   "source": [
    "for author in author_list:\n",
    "    Author.objects.create(author_name=author)"
   ]
  },
  {
   "cell_type": "code",
   "execution_count": null,
   "metadata": {},
   "outputs": [],
   "source": [
    "for small_category in small_category_list:\n",
    "    learge_category_obj = LargeCategory.objects.get\n",
    "    SmallCategory.objects.create(learge_category=learge_category_obj, small_category_name=small_category[1])"
   ]
  },
  {
   "cell_type": "code",
   "execution_count": null,
   "metadata": {},
   "outputs": [],
   "source": []
  },
  {
   "cell_type": "code",
   "execution_count": null,
   "metadata": {},
   "outputs": [],
   "source": []
  },
  {
   "cell_type": "code",
   "execution_count": 14,
   "metadata": {},
   "outputs": [],
   "source": [
    "for i in range(len(df)):\n",
    "    publisher = df.loc[i, columns[6]].split('(')[0].split(';')[0].split('/')[0].replace(' ', '')\n",
    "    publisher_obj = Publisher.objects.filter(publisher_name=publisher)\n",
    "    learge_category = df.loc[i, columns[7]]\n",
    "    learge_category_obj = LargeCategory.objects.filter(learge_category_name=learge_category)\n",
    "    small_category = df.loc[i, columns[9]]\n",
    "    small_category_obj = SmallCategory.objects.filter(small_category_name=small_category)\n",
    "    author = df.loc[i, columns[12]]\n",
    "    author_obj = Author.objects.filter(author_name=author)\n",
    "    \n",
    "    isbn_10 = df.loc[i, columns[0]]\n",
    "    isbn_13 = df.loc[i, columns[1]]\n",
    "    purchase_page_url = df.loc[i, columns[2]]\n",
    "    book_name = df.loc[i, columns[3]]\n",
    "    size_page = df.loc[i, columns[4]]\n",
    "    price = df.loc[i, columns[5]]\n",
    "    image_url = df.loc[i, columns[10]]\n",
    "    publish_date = df.loc[i, columns[11]]\n",
    "    book_detail = df.loc[i, columns[13]]\n",
    "    \n",
    "    \n",
    "    "
   ]
  },
  {
   "cell_type": "code",
   "execution_count": null,
   "metadata": {},
   "outputs": [],
   "source": [
    "Book.objects.create()"
   ]
  }
 ],
 "metadata": {
  "kernelspec": {
   "display_name": "Python 3",
   "language": "python",
   "name": "python3"
  },
  "language_info": {
   "codemirror_mode": {
    "name": "ipython",
    "version": 3
   },
   "file_extension": ".py",
   "mimetype": "text/x-python",
   "name": "python",
   "nbconvert_exporter": "python",
   "pygments_lexer": "ipython3",
   "version": "3.6.7"
  }
 },
 "nbformat": 4,
 "nbformat_minor": 2
}
